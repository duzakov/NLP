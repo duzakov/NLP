{
 "cells": [
  {
   "cell_type": "markdown",
   "metadata": {},
   "source": [
    "### Lab 2: Hyponyms and Hypernyms"
   ]
  },
  {
   "cell_type": "code",
   "execution_count": 1,
   "metadata": {},
   "outputs": [
    {
     "name": "stdout",
     "output_type": "stream",
     "text": [
      "4\n"
     ]
    }
   ],
   "source": [
    "import pandas as pd\n",
    "import wikipedia\n",
    "import os\n",
    "from tqdm import tqdm\n",
    "from joblib import Parallel, delayed\n",
    "import multiprocessing\n",
    "import networkx as nx\n",
    "import matplotlib.pyplot as plt\n",
    "from collections import defaultdict\n",
    "from ipywidgets import interact, interactive, fixed, interact_manual,widgets\n",
    "from IPython.display import display\n",
    "import json\n",
    "num_cores = multiprocessing.cpu_count()\n",
    "print(num_cores)\n",
    "wikipedia.set_lang(\"ru\")\n",
    "# DATA_PATH_LIST = ['D:','src2','taxonomy-enrichment','data','training_data']\n",
    "DATA_PATH_LIST = ['.']\n",
    "EMBEDDING_MODEL_FILENAME = \"wiki_node2vec.bin\"\n",
    "DATA_PATH=\"/\".join(DATA_PATH_LIST+[\"training_nouns.tsv\"])\n",
    "df = pd.read_csv(DATA_PATH,sep='\\t')\n",
    "%matplotlib inline"
   ]
  },
  {
   "cell_type": "code",
   "execution_count": 2,
   "metadata": {},
   "outputs": [],
   "source": [
    "def prestr(x):\n",
    "    return str(x).replace('\\\"','').replace(\"'\",'\"')"
   ]
  },
  {
   "cell_type": "code",
   "execution_count": 3,
   "metadata": {},
   "outputs": [],
   "source": [
    "class DefDict(defaultdict):\n",
    "    def __missing__(self, key):\n",
    "        self[key] = key\n",
    "        return key\n",
    "    \n",
    "idx2syns = DefDict(lambda x:x)\n",
    "for val in df.values:\n",
    "    idx2syns[val[0]]=val[1]\n",
    "    try:\n",
    "        pidxs = json.loads(prestr(val[2]))\n",
    "        concp = [el.split(\",\")[0] for el in json.loads(prestr(val[3]))]\n",
    "        idx2syns.update(dict(zip(pidxs,concp)))\n",
    "    except:\n",
    "        print(prestr(val[2]))\n",
    "        print(prestr(val[3]))"
   ]
  },
  {
   "cell_type": "markdown",
   "metadata": {},
   "source": [
    "### Interactive visualization of hyponyms and hypernyms\n"
   ]
  },
  {
   "cell_type": "code",
   "execution_count": 4,
   "metadata": {},
   "outputs": [
    {
     "data": {
      "application/vnd.jupyter.widget-view+json": {
       "model_id": "c682ff6e6d0e4666871668420bca3f2e",
       "version_major": 2,
       "version_minor": 0
      },
      "text/plain": [
       "Button(description='Draw', style=ButtonStyle())"
      ]
     },
     "metadata": {},
     "output_type": "display_data"
    },
    {
     "data": {
      "application/vnd.jupyter.widget-view+json": {
       "model_id": "59cfd24ba2db4eb2a0d589cc5a1bc584",
       "version_major": 2,
       "version_minor": 0
      },
      "text/plain": [
       "Text(value='МАТЬ', description='String:', placeholder='Query')"
      ]
     },
     "metadata": {},
     "output_type": "display_data"
    }
   ],
   "source": [
    "button = widgets.Button(description=\"Draw\")\n",
    "query = widgets.Text(\n",
    "    value='МАТЬ',\n",
    "    placeholder='Query',\n",
    "    description='String:',\n",
    "    disabled=False\n",
    ")\n",
    "display(button,query)\n",
    "\n",
    "\n",
    "\n",
    "\n",
    "def creategraph(df):\n",
    "    res = []\n",
    "    for row in df.values:\n",
    "        cohyps = row[1].split(\",\")\n",
    "        for idx,cohyp in enumerate(cohyps):\n",
    "            for parent in json.loads(prestr(row[2])):\n",
    "                res.append((row[0]+'-'+str(idx),parent))\n",
    "    return res\n",
    "\n",
    "def graphdraw(b):\n",
    "    print(\"graphdraw\",query.value)\n",
    "    subset = df[df['TEXT'].str.contains(query.value.upper())]\n",
    "    g = nx.DiGraph()\n",
    "    for el in subset.values:\n",
    "        cohyps = el[1].split(\",\")\n",
    "        print(cohyps)\n",
    "        syns = idx2syns[el[0]]\n",
    "        for child in cohyps:\n",
    "            for parent in json.loads(prestr(el[2])):\n",
    "                ed = g.add_edge(child,idx2syns[parent],label=\"is a\")\n",
    "            \n",
    "    plt.figure(figsize=(15,15))\n",
    "    pos = nx.nx_agraph.graphviz_layout(g)\n",
    "    nx.draw(g,with_labels=True,pos=pos)\n",
    "#     edge_labels=nx.draw_networkx_edge_labels(g,pos=pos)\n",
    "    plt.show()\n",
    "button.on_click(graphdraw)"
   ]
  },
  {
   "cell_type": "markdown",
   "metadata": {},
   "source": [
    "### Pattern extractor\n",
    "\n",
    "Yargy — библиотека для извлечения структурированной информации из текстов на русском языке. Правила описываются контекстно-свободными грамматиками и словарями ключевых слов. Банк готовых правил для имён, дат, адресов и других сущностей доступен в репозитории Natasha.\n",
    "* https://yargy.readthedocs.io/ru/latest/\n",
    "* http://pymorphy2.readthedocs.io/en/latest/user/grammemes.html\n",
    "* https://github.com/natasha/natasha"
   ]
  },
  {
   "cell_type": "markdown",
   "metadata": {},
   "source": [
    "### Токенизатор"
   ]
  },
  {
   "cell_type": "code",
   "execution_count": 5,
   "metadata": {},
   "outputs": [
    {
     "name": "stdout",
     "output_type": "stream",
     "text": [
      "['Ростов', '-', 'на', '-', 'Дону']\n",
      "['Длительностью', '18', 'ч', '.', '10', 'мин', '.']\n",
      "['Яндекс', '.', 'Такси']\n",
      "['π', '≈', '3', '.', '1415']\n",
      "['1', '500', '000', '$']\n",
      "['http', ':', '/', '/', 'vk', '.', 'com']\n"
     ]
    }
   ],
   "source": [
    "from yargy.tokenizer import MorphTokenizer\n",
    "\n",
    "\n",
    "tokenizer = MorphTokenizer()\n",
    "text = '''Ростов-на-Дону\n",
    "Длительностью 18ч. 10мин.\n",
    "Яндекс.Такси\n",
    "π ≈ 3.1415\n",
    "1 500 000$\n",
    "http://vk.com\n",
    "'''\n",
    "for line in text.splitlines():\n",
    "    print([_.value for _ in tokenizer(line)])"
   ]
  },
  {
   "cell_type": "markdown",
   "metadata": {},
   "source": [
    "# Газеттир\n",
    "Газеттир нужен для удобной работы с последовательностью слов. Например, можно написать:"
   ]
  },
  {
   "cell_type": "code",
   "execution_count": 6,
   "metadata": {},
   "outputs": [],
   "source": [
    "from yargy import or_, rule\n",
    "from yargy.predicates import normalized\n",
    "\n",
    "RULE = or_(\n",
    "    rule(normalized('dvd'), '-', normalized('диск')),\n",
    "    rule(normalized('видео'), normalized('файл'))\n",
    ")"
   ]
  },
  {
   "cell_type": "code",
   "execution_count": 7,
   "metadata": {},
   "outputs": [
    {
     "name": "stdout",
     "output_type": "stream",
     "text": [
      "['Видео', 'файл']\n",
      "['dvd', '-', 'диске']\n"
     ]
    }
   ],
   "source": [
    "from yargy import Parser\n",
    "from yargy.pipelines import morph_pipeline\n",
    "\n",
    "\n",
    "RULE = morph_pipeline([\n",
    "    'dvd-диск',\n",
    "    'видео файл',\n",
    "    'видеофильм',\n",
    "    'газета',\n",
    "    'электронный дневник',\n",
    "    'эссе',\n",
    "])\n",
    "\n",
    "parser = Parser(RULE)\n",
    "text = 'Видео файл на dvd-диске'\n",
    "for match in parser.findall(text):\n",
    "    print([_.value for _ in match.tokens])"
   ]
  },
  {
   "cell_type": "code",
   "execution_count": 8,
   "metadata": {},
   "outputs": [
    {
     "name": "stdout",
     "output_type": "stream",
     "text": [
      "['Чеченской', 'республике']\n",
      "['Донецкая', 'народная', 'республика']\n"
     ]
    }
   ],
   "source": [
    "from yargy import Parser, rule, and_\n",
    "from yargy.predicates import gram, is_capitalized, dictionary\n",
    "\n",
    "\n",
    "GEO = rule(\n",
    "    and_(\n",
    "        gram('ADJF'),  # так помечается прилагательное, остальные пометки описаны в\n",
    "                       # http://pymorphy2.readthedocs.io/en/latest/user/grammemes.html\n",
    "        is_capitalized()\n",
    "    ),\n",
    "    gram('ADJF').optional().repeatable(),\n",
    "    dictionary({\n",
    "        'федерация',\n",
    "        'республика'\n",
    "    })\n",
    ")\n",
    "\n",
    "\n",
    "parser = Parser(GEO)\n",
    "text = '''\n",
    "В Чеченской республике на день рождения ...\n",
    "Донецкая народная республика провозгласила ...\n",
    "Башня Федерация — одна из самых высоких ...\n",
    "'''\n",
    "for match in parser.findall(text):\n",
    "    print([_.value for _ in match.tokens])"
   ]
  },
  {
   "cell_type": "markdown",
   "metadata": {},
   "source": [
    "### Предикаты\n",
    "\n",
    "Предикат — функция, которая принимает на вход токен и возвращает True или False. В Yargy встроено много готовых предикатов. Полный список есть в справочнике. Предикаты комбинируются с помощью and_, or_ и not_."
   ]
  },
  {
   "cell_type": "code",
   "execution_count": 9,
   "metadata": {},
   "outputs": [
    {
     "name": "stdout",
     "output_type": "stream",
     "text": [
      "True\n",
      "True\n"
     ]
    }
   ],
   "source": [
    "from yargy import and_, not_\n",
    "from yargy.tokenizer import MorphTokenizer\n",
    "from yargy.predicates import is_capitalized, eq\n",
    "\n",
    "\n",
    "tokenizer = MorphTokenizer()\n",
    "token = next(tokenizer('Стали'))\n",
    "\n",
    "predicate = is_capitalized()\n",
    "print(predicate(token))\n",
    "\n",
    "predicate = and_(\n",
    "    is_capitalized(),\n",
    "    not_(eq('марки'))\n",
    ")\n",
    "print(predicate(token))"
   ]
  },
  {
   "cell_type": "markdown",
   "metadata": {},
   "source": [
    "### Грамматики\n",
    "В Yargy используется специальный DSL для описания грамматик. Любую контекстно-свободную грамматику можно описать с помощью конструкций Питона. Например, есть примитивная грамматика для размеров одежды:\n",
    "\n",
    "KEY -> р. | размер\n",
    "\n",
    "VALUE -> S | M | L\n",
    "\n",
    "SIZE -> KEY VALUE\n",
    "\n"
   ]
  },
  {
   "cell_type": "code",
   "execution_count": 10,
   "metadata": {},
   "outputs": [
    {
     "data": {
      "text/plain": [
       "SIZE -> KEY VALUE\n",
       "KEY -> 'р' '.' | 'размер'\n",
       "VALUE -> 'S' | 'M' | 'L' | 'XS'\n"
      ]
     },
     "execution_count": 10,
     "metadata": {},
     "output_type": "execute_result"
    }
   ],
   "source": [
    "from yargy import rule, or_\n",
    "\n",
    "\n",
    "KEY = or_(\n",
    "    rule('р', '.'),\n",
    "    rule('размер')\n",
    ").named('KEY')\n",
    "VALUE = or_(\n",
    "    rule('S'),\n",
    "    rule('M'),\n",
    "    rule('L'),\n",
    "    rule('XS'),\n",
    ").named('VALUE')\n",
    "SIZE = rule(\n",
    "    KEY,\n",
    "    VALUE\n",
    ").named('SIZE')\n",
    "SIZE.normalized.as_bnf"
   ]
  },
  {
   "cell_type": "code",
   "execution_count": 11,
   "metadata": {},
   "outputs": [
    {
     "name": "stdout",
     "output_type": "stream",
     "text": [
      "['размер', 'M']\n",
      "['размер', 'XS']\n"
     ]
    }
   ],
   "source": [
    "parser = Parser(\n",
    "    SIZE\n",
    ")\n",
    "text = 'размер M; размер A; размер XS;'\n",
    "for match in parser.findall(text):\n",
    "    print([_.value for _ in match.tokens])"
   ]
  },
  {
   "cell_type": "code",
   "execution_count": 12,
   "metadata": {},
   "outputs": [],
   "source": [
    "from yargy import Parser, rule, and_, or_, not_\n",
    "from yargy.interpretation import fact, attribute\n",
    "from yargy.predicates import gram, is_capitalized, dictionary, eq\n",
    "import re\n",
    "import pandas as pd\n",
    "from tqdm import tqdm_notebook\n",
    "from gensim import utils"
   ]
  },
  {
   "cell_type": "code",
   "execution_count": 13,
   "metadata": {},
   "outputs": [],
   "source": [
    "\n",
    "START = rule(\n",
    "    or_(\n",
    "        rule(gram('ADJF')),\n",
    "        rule(gram('NOUN'))\n",
    "    ).optional(),\n",
    "    gram('NOUN')\n",
    ")\n",
    "\n",
    "START_S = or_(\n",
    "    eq('такой'),\n",
    "    eq('такие'),\n",
    ")\n",
    "\n",
    "KAK = eq('как')\n",
    "INCLUDING = or_(\n",
    "    or_(\n",
    "        eq('в'),\n",
    "        eq('том'),\n",
    "        eq('числе'),\n",
    "    ),\n",
    "    eq('включающий'),\n",
    "    or_(\n",
    "        eq('включающий'),\n",
    "        eq('в'),\n",
    "        eq('себя'),\n",
    "    ),\n",
    "    or_(\n",
    "        eq('включающие'),\n",
    "        eq('в'),\n",
    "        eq('себя'),\n",
    "    ),\n",
    "    eq('включающие'),\n",
    "    eq('особенно'),\n",
    "\n",
    ")\n",
    "\n",
    "MID_S = or_(\n",
    "    rule(\n",
    "        or_(\n",
    "            eq('такой'),\n",
    "            eq('такие'),\n",
    "        ),\n",
    "        eq('как')\n",
    "    )\n",
    ")\n",
    "ATAKJE = rule(\n",
    "    eq(','),\n",
    "    eq('а'),\n",
    "    eq('также')\n",
    ")\n",
    "\n",
    "MID = or_(\n",
    "    rule(\n",
    "        eq('это')\n",
    "    ),\n",
    "    rule(\n",
    "        eq('—')\n",
    "    ),\n",
    "    rule(\n",
    "        eq('—'),\n",
    "        eq('это')\n",
    "    ),\n",
    "    rule(\n",
    "        eq('—'),\n",
    "        not_(eq('км'))\n",
    "    ),\n",
    "    rule(\n",
    "        or_(\n",
    "            eq('и'),\n",
    "            eq('или'),\n",
    "        ),\n",
    "        eq('другие')\n",
    "    )\n",
    ")\n",
    "\n",
    "END = or_(\n",
    "    rule(\n",
    "        gram('NOUN'),\n",
    "        gram('NOUN')\n",
    "    ),\n",
    "    rule(\n",
    "        gram('ADJF').repeatable(),\n",
    "        gram('NOUN')\n",
    "    ),\n",
    "    rule(\n",
    "        gram('ADJF'),\n",
    "        gram('ADJF').repeatable(),\n",
    "        gram('NOUN')\n",
    "    ),\n",
    "    rule(\n",
    "        gram('NOUN').repeatable(),\n",
    "        gram('ADJF'),\n",
    "        gram('NOUN').repeatable()\n",
    "    ),\n",
    "    rule(\n",
    "        gram('NOUN').repeatable()\n",
    "    )\n",
    ")\n",
    "\n",
    "Item = fact(\n",
    "    'Item',\n",
    "    [attribute('titles').repeatable()]\n",
    ")\n",
    "\n",
    "\n",
    "IGNORE = rule(\n",
    "    '(',\n",
    "    not_(eq(')')).repeatable(),\n",
    "    ')'\n",
    ")\n",
    "\n",
    "ITEM = rule(\n",
    "    IGNORE.interpretation(\n",
    "        Item.titles\n",
    "    ),\n",
    "    eq(',').optional() \n",
    ").repeatable().interpretation(\n",
    "    Item\n",
    ")"
   ]
  },
  {
   "cell_type": "code",
   "execution_count": 14,
   "metadata": {},
   "outputs": [],
   "source": [
    "def get_hyperonyms(main_word):\n",
    "    HYPONYM = eq(utils.deaccent(main_word))\n",
    "    RULE = or_(\n",
    "        rule(HYPONYM, ATAKJE, START, MID, END),\n",
    "        rule(HYPONYM, MID, END),\n",
    "        rule(START_S, END, KAK, HYPONYM),\n",
    "        rule(END, INCLUDING, HYPONYM)\n",
    "    )\n",
    "    parser = Parser(RULE) \n",
    "    text = utils.deaccent(wikipedia.summary(main_word))\n",
    "    print(text)\n",
    "    text = re.sub(r'\\(.+?\\)', '', text)\n",
    "    text = text.lower().replace('* сергии радонежскии* ', '')\n",
    "    for idx, match in enumerate(parser.findall(text.lower())):\n",
    "        k = [_.value for _ in match.tokens]\n",
    "        print(k)"
   ]
  },
  {
   "cell_type": "code",
   "execution_count": 15,
   "metadata": {},
   "outputs": [
    {
     "name": "stdout",
     "output_type": "stream",
     "text": [
      "Банан — название съедобных плодов культивируемых растении рода Банан (Musa); обычно под таковыми понимают Musa acuminata и Musa × paradisiaca, а также Musa balbisiana, Musa fehi, Musa troglodytarum и ряд других. Также бананами могут называть плоды Ensete ventricosum (строго говоря, являющегося представителем другого рода семеиства Банановые). С ботаническои точки зрения банан является ягодои, многосеменнои и толстокожеи. У культурных форм часто отсутствуют семена, ненужные при вегетативном размножении. Плоды имеют длину 6—30 см и диаметр 2—5 см. Соплодия могут состоять из 300 плодов и иметь массу до 50—60 кг.\n",
      "Бананы — одна из древнеиших пищевых культур, а для тропических стран важнеишее пищевое растение и главная статья экспорта. Спелые бананы широко употребляются в пищу по всему миру, их используют при приготовлении большого количества блюд. Помимо употребления в свежем виде, в кухне некоторых народов бананы могут зажариваться, или вариться как в очищенном, так и в неочищенном виде. Их также сушат, консервируют, используют для приготовления банановои муки, мармелада, сиропов, вин. Бананы применяются также в качестве корма для скота. Запах бананов определяют изовалерианово-изоамиловыи и уксусно-изоамиловыи эфиры. Выращиваются в тропических и субтропических раионах с жарким влажным климатом. Существует большое число сортов съедобных видов банана.\n",
      "Размер, цвет и форма могут значительно различаться в зависимости от вида или сорта, но чаще всего они имеют продолговатую цилиндрическую или трехгранную форму, выпрямленную либо закругленную. Длина плода варьирует в пределах от 3 до 40 см, толщина — от 2 до 8 см. Цвет кожицы может быть желтым, зеленым, красным или даже серебристым. Мякоть белая, кремовая, желтая или оранжевая. В незрелом состоянии она твердая и клеикая, но по мере созревания становится мягкои и сочнои.\n",
      "Во многих странах бананы являются одним из основных источников питания — например, только в Эквадоре годовое потребление этого продукта составляет 73,8 кг на душу населения (для сравнения, в России этот показатель равен 7,29 кг). Существенную долю потребления бананы также составляют в Бурунди (189,4 кг), Самоа (85,0 кг), Коморских Островах (77,8 кг) и на Филиппинах (40,6 кг).\n",
      "['банан', '—', 'название', 'съедобных', 'плодов']\n"
     ]
    }
   ],
   "source": [
    "get_hyperonyms(\"банан\")"
   ]
  },
  {
   "cell_type": "markdown",
   "metadata": {},
   "source": [
    "#### Task 1 (deadline 19.02.2020 24:00)\n",
    "* Find your name on the spreadsheet https://docs.google.com/spreadsheets/d/1RR2I6toCkebbGU1UK83HS70Ru_l0_o-nnZIHyiFB0No/edit?usp=sharing. In opposite of your name there are 24 words of hyponyms, you have to insert five corresponding hypernyms next to them. Examples of hyponyms and hyperonyms relationship you can find above in the current Jupiter notebook.\n",
    "* Find for each pair of hyponyms and hypernyms a corresponding snippet of a text with their mentions. The source of the text can be any free resources, e.g., Wikipedia, Google, Yandex, others. You should save the snippets and their URLs within the lab2 folder in your NLP git-repo with .csv file-extension in a single file.\n",
    "\n",
    "#### Task 2 (deadline 26.02.2020 24:00)\n",
    "* It would be best if you created a pandas DataFrame of the texts from the previous task. And apply to the DataFrame the function 'get_hyperonyms,' which must return the list of the corresponding hypernyms from the text automatically. If there are errors or misses, you should fix them in the code for your case of the 24 words. Nevertheless, it is strictly prohibited to use hard coding. Save your notebook with parser code within the lab2 folder in your NLP git-repo."
   ]
  },
  {
   "cell_type": "code",
   "execution_count": 31,
   "metadata": {},
   "outputs": [
    {
     "data": {
      "text/html": [
       "<div>\n",
       "<style scoped>\n",
       "    .dataframe tbody tr th:only-of-type {\n",
       "        vertical-align: middle;\n",
       "    }\n",
       "\n",
       "    .dataframe tbody tr th {\n",
       "        vertical-align: top;\n",
       "    }\n",
       "\n",
       "    .dataframe thead th {\n",
       "        text-align: right;\n",
       "    }\n",
       "</style>\n",
       "<table border=\"1\" class=\"dataframe\">\n",
       "  <thead>\n",
       "    <tr style=\"text-align: right;\">\n",
       "      <th></th>\n",
       "      <th>HYPONYM</th>\n",
       "    </tr>\n",
       "  </thead>\n",
       "  <tbody>\n",
       "    <tr>\n",
       "      <th>0</th>\n",
       "      <td>ЛОМИК</td>\n",
       "    </tr>\n",
       "    <tr>\n",
       "      <th>1</th>\n",
       "      <td>ЛОТОЧНИК</td>\n",
       "    </tr>\n",
       "    <tr>\n",
       "      <th>2</th>\n",
       "      <td>ЛОЦИЯ</td>\n",
       "    </tr>\n",
       "    <tr>\n",
       "      <th>3</th>\n",
       "      <td>ЛЬНОВОД</td>\n",
       "    </tr>\n",
       "    <tr>\n",
       "      <th>4</th>\n",
       "      <td>ЛЬНОВОДСТВО</td>\n",
       "    </tr>\n",
       "  </tbody>\n",
       "</table>\n",
       "</div>"
      ],
      "text/plain": [
       "       HYPONYM\n",
       "0        ЛОМИК\n",
       "1     ЛОТОЧНИК\n",
       "2        ЛОЦИЯ\n",
       "3      ЛЬНОВОД\n",
       "4  ЛЬНОВОДСТВО"
      ]
     },
     "execution_count": 31,
     "metadata": {},
     "output_type": "execute_result"
    }
   ],
   "source": [
    "homework_data = pd.read_excel('words.xlsx', sheet_name='Sheet1')\n",
    "\n",
    "homework_data.head()"
   ]
  },
  {
   "cell_type": "code",
   "execution_count": 32,
   "metadata": {},
   "outputs": [
    {
     "name": "stdout",
     "output_type": "stream",
     "text": [
      "Гиперонимы для слова:  ЛОМИК\n",
      "\n",
      "\n",
      "Фома — мужское русское личное имя, заимствованное из греческого (греч. Θωμας); восходит к арамеискому «томо» [תאומא] — «близнец».\n",
      "В христианском именослове имя Фома соотносится прежде всего с апостолом Фомои. Помимо него, из раннехристианских святых в святцах упоминается святитель Фома, патриарх константинопольскии, и несколько святых, агиографических сведении о которых не сохранилось, кроме даты поминовения.\n",
      "Именины: 3 апреля, 7 мая, 13 июля, 20 июля, 19 октября, 23 декабря.\n",
      "В русском языке известно отыменное слово «фомка» — небольшои ломик; первоначально — инструмент взломщика.\n",
      "\n",
      "\n",
      "\n",
      "Гиперонимы для слова:  ЛОТОЧНИК\n",
      "\n",
      "\n",
      "Торговля — отрасль хозяиства и вид экономическои деятельности, направленныи на осуществление купли-продажи, обмена товаров, а также связанные с этим процессы: непосредственное обслуживание покупателеи, доставка товаров, их хранение и подготовка к продаже.\n",
      "В узком смысле торговлеи называют переговорныи процесс прихода к соглашению о существенных условиях сделки.\n",
      "Торговыи обмен обычно производится при помощи денег, но существует и безденежная торговля — непосредственныи обмен товарами, бартер.\n",
      "Торговля — это значительныи источник налоговых поступлении в бюджет страны или региона.\n",
      "Торговля как вид деятельности относится к посредническим услугам, она рассматривается как вспомогательное звено при движении товаров от производителеи к покупателям.\n",
      "Обособление торговли в отдельную отрасль экономики связано с общественным разделением труда и выделением торгового капитала как части промышленного капитала, что обусловлено стремлением к более эффективному использованию имеющихся ресурсов.\n",
      "\n",
      "\n",
      "\n",
      "Гиперонимы для слова:  ЛОЦИЯ\n",
      "\n",
      "\n",
      "Лоция (от нидерл. loodsen «вести корабль») — предназначенное для мореплавателеи описание мореи, океанов и их прибрежнои полосы. Включает в себя разъяснения на­ви­га­ци­он­ных осо­бен­но­стеи (рельеф дна, приметных мест, знаков и берегов), а также содержит подробные указания по путям безопасного плавания и остановкам у берегов с описанием средств и способов получения необходимых для плавания предметов и провизии, включают деиствующие законы и правила водных бассеинов, в соответствии с географическим положением.\n",
      "\n",
      "\n",
      "\n",
      "Гиперонимы для слова:  ЛЬНОВОД\n",
      "\n",
      "\n",
      "Лен (лат. Linum) — род растении семеиства Льновые (Linaceae).\n",
      "\n",
      "\n",
      "\n",
      "Гиперонимы для слова:  ЛЬНОВОДСТВО\n",
      "\n",
      "\n",
      "Лен (лат. Linum) — род растении семеиства Льновые (Linaceae).\n",
      "\n",
      "\n",
      "\n",
      "Гиперонимы для слова:  ЛЮИЗИТ\n",
      "\n",
      "\n",
      "Люизит (Брагон, Галит, Вещество № 17, Р-43) — смесь изомеров β-хлорвинилдихлорарсина (α-люизита), бис-(β-хлорвинил)хлорарсина (β-люизита) и трихлорида мышьяка. Темно-коричневая ядовитая жидкость с резким раздражающим запахом, напоминающим запах герани, боевое отравляющее вещество кожно-нарывного деиствия, названа по имени американского химика Уинфорда Ли Льюиса (Winford Lee Lewis 1879–1943). Военными в просторечии называется «роса смерти».\n",
      "\n",
      "\n",
      "\n",
      "Гиперонимы для слова:  ЛЮПИН\n",
      "\n",
      "\n",
      "Люпин, или волчии боб (лат. Lupinus) — род растении из семеиства Бобовые (Fabaceae). Представлен однолетними и многолетними травянистыми растениями, полукустарничками, полукустарниками, кустарниками.\n",
      "\n",
      "\n",
      "\n",
      "Гиперонимы для слова:  ЛЮТЕЦИЙ\n",
      "\n",
      "\n",
      "Лютеции (химическии символ — Lu; лат. Lutetium) — химическии элемент, относящиися к группе лантаноидов.\n",
      "\n",
      "\n",
      "\n",
      "Гиперонимы для слова:  ЛЮТИК\n",
      "\n",
      "\n",
      "Лютик  (лат. Ranunculus, от лат. rana — «лягушка») — род однолетних или многолетних травянистых растении семеиства Лютиковые (Ranunculaceae). Водные или наземные травы с едким, а иногда и ядовитым соком. \n",
      "Латинское название род получил благодаря тому, что многие его представители обитают в воде или рядом с неи, подобно лягушкам.\n",
      "Иногда в популярнои литературе на русском языке в качестве названия рода используется транслитерация научного латинского названия — «ранункулюс» (реже «ранункулус»).\n",
      "\n",
      "\n",
      "\n",
      "Гиперонимы для слова:  ЛЯМБЛИОЗ\n",
      "\n",
      "\n",
      "Лямблиоз (гиардиаз) — заболевание, вызываемое простеишими — лямблиями, паразитирующими в тонкои кишке человека и некоторых животных. Нозология относится к группе забытых болезнеи.\n",
      "\n",
      "\n",
      "\n",
      "Гиперонимы для слова:  ЛЯМБЛИЯ\n",
      "\n",
      "\n",
      "Лямблии, или гиардии, или жиардии (лат. Giardia) — род жгутиковых протистов из отряда дипломонадид (Diplomonadida). Паразитируют в тонком кишечнике человека и многих других млекопитающих, а также птиц.\n",
      "Один из видов этого рода — кишечная лямблия (Giardia intestinalis) (синонимы — Giardia lamblia и Giardia duodenalis) — возбудители лямблиоза человека.\n",
      "\n",
      "\n",
      "\n",
      "Гиперонимы для слова:  МАГНЕЗИЯ\n",
      "\n",
      "\n",
      "Спортивная магнезия (далее — магнезия) — белыи порошок или раствор, представляющии собои  соль магния и предназначенныи для подсушивания рук и, как следствие, увеличения надежности хвата (например, в скалолазании).\n",
      "\n",
      "\n",
      "\n",
      "Гиперонимы для слова:  МАГНЕТИТ\n",
      "\n",
      "\n",
      "Магнетит (устаревшии синоним — магнитныи железняк) FeO·Fe2O3 — широко распространенныи минерал черного цвета из класса оксидов, природныи оксид железа(II,III). Происхождение названия твердо не установлено. Возможно, минерал назван в честь Магнеса — легендарного пастуха, впервые нашедшего природныи магнитныи камень, притягивающии железо, на горе Ида (Греция), либо от античного города Магнесия в Малои Азии.\n",
      "\n",
      "\n",
      "\n",
      "Гиперонимы для слова:  МАДЕРА\n",
      "\n",
      "\n",
      "Мадера (в оригинале мадеира: порт. vinho da Madeira — «вино Мадеиры») — крепленое вино, изначально изготавливавшееся на лесистом острове Мадеира (порт. madeira — лес, древесина). Вина данного типа могут быть как сухими, так и десертными. Объединяющим признаком служит выдержка виноматериала в процессе приготовления вина при достаточно высокои температуре (порядка 30—45 °C) в течение значительного времени. В результате в вине происходит сахароаминная реакция (меланоидинообразование, реакция Маияра), которая обуславливает янтарную окраску вина и карамельно-ореховые оттенки во вкусе и аромате.\n",
      "Если в Португалии (в том числе на Мадеире) попросить в ресторане или виннои лавке просто «мадеру», вас, скорее всего, не поимут; нужно сказать «vinho da Madeira» (винью да Мадеира). Не стоит думать, будто бы жители острова Мадеира из всех вин употребляют исключительно (или хотя бы преимущественно) мадеру. Они предпочитают более легкие вина, как и жители материковои Португалии.\n",
      "\n",
      "\n",
      "\n",
      "Гиперонимы для слова:  МАЗАНКА\n",
      "\n",
      "\n",
      "Мазанка — строение из кирпича с известью, заложенных между столбами, связанными перекладами, тип городского и сельского дома (особенно характерныи для Украины) из мелкого леса или камыша, с обмазкои глинои, иногда с навозом и сечкои.\n",
      "На Руси существовали мазанковые церкви (храмы) и другие сооружения. Плетневая мазанка в России называлась на Рязанщине, Орловщине, Тамбовщине — хибарка, а на юге и Кавказе — турлук.\n",
      "\n",
      "\n",
      "\n",
      "Гиперонимы для слова:  МАЙБАХ\n",
      "\n",
      "\n",
      "Август Вильгельм  Маибах (нем. August Wilhelm Maybach [ˈvɪlhɛlm ˈmaɪbax]; 9 февраля 1846, Хаильбронн — 29 декабря 1929, Штутгарт) — один из немецких пионеров в области автомобилестроения, предприниматель, сооснователь автомобильнои компании «Daimler-Motoren-Gesellschaft», создатель первого автомобиля под торговои маркои «Mercedes». За свои инженерные достижения еще при жизни получил прозвище «Король конструкторов».\n",
      "В конце 19 века Вильгельм Маибах совместно с Готлибом Даимлером разработали легкии и быстрыи[уточнить] двигатель внутреннего сгорания, пригодныи для использования на земле, воде или в воздушном пространстве. Данныи силовои агрегат был установлен на первыи в мире мотоцикл, моторную лодку, а после смерти Даимлера на новыи автомобиль Mercedes, представленныи в конце 1902 года и сконструированныи в соответствии со спецификациями Эмиля Еллинека.\n",
      "По карьернои лестнице Вильгельм поднялся до должности технического директора фирмы Daimler-Motoren-Gesellschaft (DMG), но из-за разногласии с руководством в 1907 году Маибах покинул компанию и через два года вместе со своим сыном Карлом основал собственную — Maybach-Motorenbau GmbH. Новое предприятие разрабатывало двигатели для дирижаблеи Цеппелин. После подписания Версальского договора в 1919 году компания начала производить большие роскошные автомобили под торговои маркои Maybach.\n",
      "Вильгельм Маибах скончался 29 декабря 1929 года в возрасте 83 лет в городе Штутгарт, Германия. Концерн DaimlerChrysler возродил наследие Вильгельма в качестве бренда Maybach, выпускающего роскошные автомобили люкс-класса, в 2002 году. С 2015 года компания существует в виде суббренда Mercedes-Maybach, производящего эксклюзивные модификации Mercedes-Benz S-класса.\n"
     ]
    },
    {
     "name": "stdout",
     "output_type": "stream",
     "text": [
      "\n",
      "\n",
      "\n",
      "Гиперонимы для слова:  МАКАРОННИК\n",
      "\n",
      "\n",
      "Макаронник — блюдо из макарон. Готовится как запеканка из отварных макаронных изделии (в основнои массе) и связующего продукта — сыра или свежего яица. В качестве добавки может использоваться большое количество продуктов — грибы, томаты, мяснои фарш, творог и т. д. Макаронник может выступать в роли гарнира, основного блюда (макаронник с мясом, рыбои, курицеи или овощами) или десерта (макаронник с творогом или с вареньем).\n",
      "Макароны для запеканки необходимо варить в небольшом количестве воды — 2,2-3,0 литра на килограмм сухих макаронных изделии.\n",
      "Вместо макарон можно использовать вермишель или лапшу (лапшевник).\n",
      "\n",
      "\n",
      "\n",
      "Гиперонимы для слова:  МАККАРТИЗМ\n",
      "\n",
      "\n",
      "Маккартизм (англ. McCarthyism — по фамилии сенатора Джозефа Рэимонда Маккарти) — общественное движение в США, существовавшее в период с конца 1940-х по 1957 год. Сопровождалось обострением антикоммунистических настроении и политическими репрессиями против «антиамерикански настроенных» граждан. Термин был впервые использован карикатуристом газеты The Washington Post Херблоком в начале 1950-х годов.\n",
      "\n",
      "\n",
      "\n"
     ]
    }
   ],
   "source": [
    "for word in list(homework_data['HYPONYM']):\n",
    "    print('Гиперонимы для слова: ', word)\n",
    "    print('\\n')\n",
    "    get_hyperonyms(word)\n",
    "    print('\\n\\n')"
   ]
  },
  {
   "cell_type": "code",
   "execution_count": null,
   "metadata": {},
   "outputs": [],
   "source": []
  }
 ],
 "metadata": {
  "kernelspec": {
   "display_name": "Python 3",
   "language": "python",
   "name": "python3"
  },
  "language_info": {
   "codemirror_mode": {
    "name": "ipython",
    "version": 3
   },
   "file_extension": ".py",
   "mimetype": "text/x-python",
   "name": "python",
   "nbconvert_exporter": "python",
   "pygments_lexer": "ipython3",
   "version": "3.7.3"
  }
 },
 "nbformat": 4,
 "nbformat_minor": 2
}
